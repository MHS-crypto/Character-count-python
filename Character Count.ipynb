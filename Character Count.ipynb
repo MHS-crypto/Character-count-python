{
 "cells": [
  {
   "cell_type": "code",
   "execution_count": 32,
   "metadata": {},
   "outputs": [],
   "source": [
    "# Count character occurrences in a given word, phraseor sentence\n",
    "  \n",
    "def countOccurrences(str, character):\n",
    "     \n",
    "  \n",
    "    # search for character in str\n",
    "    count = 0\n",
    "    for i in range(0, len(str)):\n",
    "          \n",
    "        # if match found increase count \n",
    "        if (character == str[i]):\n",
    "           count = count + 1\n",
    "             \n",
    "    return count       \n",
    "  \n",
    "\n"
   ]
  },
  {
   "cell_type": "code",
   "execution_count": 33,
   "metadata": {},
   "outputs": [
    {
     "name": "stdout",
     "output_type": "stream",
     "text": [
      "Enter a word, phrase or sentence for the test: Hello World From Hassan\n",
      "Enter the character you want to search for: o\n",
      "The number of times character o occuring in hello world from hassan is:  3\n"
     ]
    }
   ],
   "source": [
    "# Driver code\n",
    "str = input('Enter a word, phrase or sentence for the test: ')\n",
    "str = str.lower()\n",
    "character = input('Enter the character you want to search for: ')\n",
    "character = word.lower()\n",
    "result = countOccurrences(str, character)\n",
    "print(\"The number of times character \" + character + \" occuring in \" + str + \" is: \" , result)"
   ]
  },
  {
   "cell_type": "code",
   "execution_count": null,
   "metadata": {},
   "outputs": [],
   "source": []
  }
 ],
 "metadata": {
  "kernelspec": {
   "display_name": "Python 3",
   "language": "python",
   "name": "python3"
  },
  "language_info": {
   "codemirror_mode": {
    "name": "ipython",
    "version": 3
   },
   "file_extension": ".py",
   "mimetype": "text/x-python",
   "name": "python",
   "nbconvert_exporter": "python",
   "pygments_lexer": "ipython3",
   "version": "3.7.3"
  }
 },
 "nbformat": 4,
 "nbformat_minor": 2
}
